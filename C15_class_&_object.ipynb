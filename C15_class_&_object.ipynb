{
  "nbformat": 4,
  "nbformat_minor": 0,
  "metadata": {
    "colab": {
      "provenance": [],
      "authorship_tag": "ABX9TyNW4xrEXlRIQEtAQiTB5JF7",
      "include_colab_link": true
    },
    "kernelspec": {
      "name": "python3",
      "display_name": "Python 3"
    },
    "language_info": {
      "name": "python"
    }
  },
  "cells": [
    {
      "cell_type": "markdown",
      "metadata": {
        "id": "view-in-github",
        "colab_type": "text"
      },
      "source": [
        "<a href=\"https://colab.research.google.com/github/AveryGaoo/ThinkPython-Self-Study-Notes/blob/main/C15_class_%26_object.ipynb\" target=\"_parent\"><img src=\"https://colab.research.google.com/assets/colab-badge.svg\" alt=\"Open In Colab\"/></a>"
      ]
    },
    {
      "cell_type": "code",
      "execution_count": null,
      "metadata": {
        "id": "nR3kpOc7Egg1",
        "colab": {
          "base_uri": "https://localhost:8080/"
        },
        "outputId": "06cf37a6-9567-469e-85db-b15dde8eb230"
      },
      "outputs": [
        {
          "output_type": "stream",
          "name": "stdout",
          "text": [
            "center point: ( 150 , 100 )\n",
            "radius: 75\n",
            "True\n",
            "True\n"
          ]
        }
      ],
      "source": [
        "\"\"\"\n",
        "课后练习题15-1：定义一个新的名为Circle的类表示圆形，它的属性有center和radius，其中center是一个point对象，\n",
        "而radius是一个数。实例化一个Circle对象来代表一个圆形在（150，100），半径为75的圆形。\n",
        "\"\"\"\n",
        "class Point:    #先定义一个 Point 类来表示点坐标\n",
        "    def __init__(self, x, y):\n",
        "        self.x = x\n",
        "        self.y = y\n",
        "\n",
        "class Circle:   #再定义 Circle 类\n",
        "    def __init__(self, radius, center):\n",
        "        self.radius = radius\n",
        "        self.center = center\n",
        "\n",
        "center_point = Point(150, 100)\n",
        "circle = Circle(75, center_point)\n",
        "\n",
        "\n",
        "print(\"center point: (\", circle.center.x, \",\", circle.center.y, \")\")\n",
        "print(\"radius:\", circle.radius)\n",
        "\n",
        "\n",
        "\"\"\"\n",
        "编写一个函数point_in_circle,接收一个circle对象和一个point对象，\n",
        "并当point对象在圆形内时返回True，否则返回False。\n",
        "\"\"\"\n",
        "def point_in_circle(circle, point):\n",
        "  distance = (point.x - circle.center.x)**2 + (point.y - circle.center.y)**2\n",
        "  if distance <= circle.radius**2:\n",
        "    return True\n",
        "  else:\n",
        "    return False\n",
        "\n",
        "\n",
        "point = Point(150, 110)\n",
        "print(point_in_circle(circle, point))\n",
        "\n",
        "\n",
        "\"\"\"\n",
        "编写一个函数rect_in_circle，接收一个Circle对象和一个Rectangle对象，并在Rectangle的\n",
        "任何一个角落在Circle之内时返回True，否则返回False。\n",
        "\"\"\"\n",
        "class Rectangle:\n",
        "  def __init__(self, width, height, corner):\n",
        "    self.width = width\n",
        "    self.height = height\n",
        "    self.corner = corner\n",
        "\n",
        "\n",
        "def rect_in_circle(circle, rect):\n",
        "  lower_left = Point(rect.corner.x, rect.corner.y)\n",
        "  upper_left = Point(rect.corner.x, rect.corner.y + rect.height)\n",
        "  lower_right = Point(rect.corner.x + rect.width, rect.corner.y)\n",
        "  upper_right = Point(rect.corner.x + rect.width, rect.corner.y + rect.height)\n",
        "\n",
        "  return (point_in_circle(circle, lower_left) or\n",
        "          point_in_circle(circle, upper_left) or\n",
        "          point_in_circle(circle, lower_right) or\n",
        "          point_in_circle(circle, upper_right))\n",
        "\n",
        "\n",
        "circle = Circle(75, Point(150, 100))\n",
        "rect = Rectangle(100, 200, Point(140,100))\n",
        "print(rect_in_circle(circle, rect))\n",
        "\n",
        "\"\"\"\n",
        "编写一个函数rect_in_circle，接收一个Circle对象和一个Rectangle对象，并在Rectangle的\n",
        "任何部分在Circle之内时返回True，否则返回False。\n",
        "\"\"\"\n",
        "Avery- GAO"
      ]
    },
    {
      "cell_type": "code",
      "source": [
        "class Pet(object):\n",
        "  def __init__(self, name, species):\n",
        "    self.name = name\n",
        "    self.species = species\n",
        "  def getName(self):\n",
        "    return self.name\n",
        "  def getSpecies(self):\n",
        "    return self.species\n",
        "  def __str__(self):\n",
        "    return \"%s is a %s\" % (self.name, self.species)\n",
        "\n",
        "p = Pet('cat', 'li')\n",
        "print(p)  # 输出: cat is a li\n",
        "print(p.getName())    # 输出: cat\n",
        "print(p.getSpecies()) # 输出: li\n"
      ],
      "metadata": {
        "colab": {
          "base_uri": "https://localhost:8080/"
        },
        "id": "meyEFmoEKPT_",
        "outputId": "48c28405-a3b0-45d6-f8a6-afce4e5fac44"
      },
      "execution_count": null,
      "outputs": [
        {
          "output_type": "stream",
          "name": "stdout",
          "text": [
            "cat is a li\n",
            "cat\n",
            "li\n"
          ]
        }
      ]
    },
    {
      "cell_type": "code",
      "source": [
        "#P158-159\n",
        "class Point:\n",
        "  def __init__(self, x, y):\n",
        "    self.x = x\n",
        "    self.y = y\n",
        "  def __str__(self):\n",
        "     return f'({self.x}, {self.y})'\n",
        "\n",
        "class Rectangle:\n",
        "    def __init__(self, width, height, corner):\n",
        "        self.width = width\n",
        "        self.height = height\n",
        "        self.corner = corner\n",
        "\n",
        "\n",
        "def grow_rectangle(rect, dwidth, dheight):\n",
        "    rect.width += dwidth\n",
        "    rect.height += dheight\n",
        "\n",
        "r = Rectangle(150, 300, Point(0, 0))\n",
        "grow_rectangle(r, 50, 100)\n",
        "print(r.width)\n",
        "print(r.height)\n",
        "print(r.corner.x)\n",
        "\n",
        "\n",
        "print(\"\")\n",
        "\n",
        "def move_rectangle(rect, dx, dy):\n",
        "    rect.corner.x += dx\n",
        "    rect.corner.y += dy\n",
        "\n",
        "r2 = Rectangle(150, 300, Point(0, 0))\n",
        "move_rectangle(r2, 50, 100)\n",
        "print(r2.corner.x)\n",
        "print(r2.corner.y)\n",
        "print(r2.corner)"
      ],
      "metadata": {
        "colab": {
          "base_uri": "https://localhost:8080/"
        },
        "id": "RUACG5ogyBaZ",
        "outputId": "70817543-7694-4df5-b7be-779aa5da471b"
      },
      "execution_count": 18,
      "outputs": [
        {
          "output_type": "stream",
          "name": "stdout",
          "text": [
            "200\n",
            "400\n",
            "0\n",
            "\n",
            "50\n",
            "100\n",
            "(50, 100)\n"
          ]
        }
      ]
    },
    {
      "cell_type": "code",
      "source": [
        "#P159\n",
        "import copy\n",
        "\n",
        "class Point:\n",
        "  def __init__(self, x, y):\n",
        "    self.x = x\n",
        "    self.y = y\n",
        "  def __str__(self):\n",
        "     return f'({self.x}, {self.y})'\n",
        "\n",
        "p1 = Point(3.0, 4.0)\n",
        "p1.x = 3.0\n",
        "p1.y = 4.0\n",
        "p2 = copy.copy(p1)\n",
        "print(p1)\n",
        "print(p2)\n",
        "print(p1 is p2)\n",
        "print(p1 == p2) # 与is一致，检查同一性，不检查相等性\n"
      ],
      "metadata": {
        "colab": {
          "base_uri": "https://localhost:8080/"
        },
        "id": "54gbJ_JZ3YZS",
        "outputId": "cdd20200-735e-4fe0-ce19-caca3ddb4292"
      },
      "execution_count": 35,
      "outputs": [
        {
          "output_type": "stream",
          "name": "stdout",
          "text": [
            "(3.0, 4.0)\n",
            "(3.0, 4.0)\n",
            "False\n",
            "False\n"
          ]
        }
      ]
    },
    {
      "cell_type": "code",
      "source": [
        "#P160\n",
        "class Point:\n",
        "  def __init__(self, x, y):\n",
        "    self.x = x\n",
        "    self.y = y\n",
        "  def __str__(self):\n",
        "     return f'({self.x}, {self.y})'\n",
        "\n",
        "class Rectangle:\n",
        "    def __init__(self, width, height, corner):\n",
        "        self.width = width\n",
        "        self.height = height\n",
        "        self.corner = corner\n",
        "\n",
        "\n",
        "r1 = Rectangle(150, 300, Point(0, 0))\n",
        "r2 = copy.copy(r1)\n",
        "\n",
        "print(r2 is r1)\n",
        "print(r2.corner is r1.corner)  #因为浅复制，复制对象以及第一层的引用，但是不能复制内嵌对象，如下图\n",
        "\n",
        "# r1 -->| width  --> 150  |       |  150 <-- width  | <-- r2\n",
        "#       | height --> 300  |       |  300 <-- height |\n",
        "#       | corner ---------> x = 0 <--------- corner |\n",
        "#                           y = 0\n"
      ],
      "metadata": {
        "colab": {
          "base_uri": "https://localhost:8080/"
        },
        "id": "Kubzz-u25ktF",
        "outputId": "e548a4ff-6170-48ad-f57c-4cc50d1f785e"
      },
      "execution_count": 47,
      "outputs": [
        {
          "output_type": "stream",
          "name": "stdout",
          "text": [
            "False\n",
            "True\n"
          ]
        }
      ]
    },
    {
      "cell_type": "code",
      "source": [
        "#由于浅复制，不能复制内嵌对象，所以对move_rectangle这个函数会有较大影响，容易混乱，所以引出深复制--> deepcopy()\n",
        "class Point:\n",
        "  def __init__(self, x, y):\n",
        "    self.x = x\n",
        "    self.y = y\n",
        "  def __str__(self):\n",
        "     return f'({self.x}, {self.y})'\n",
        "\n",
        "class Rectangle:\n",
        "    def __init__(self, width, height, corner):\n",
        "        self.width = width\n",
        "        self.height = height\n",
        "        self.corner = corner\n",
        "\n",
        "r1 = Rectangle(150, 300, Point(0, 0))\n",
        "r3 = copy.deepcopy(r1)\n",
        "\n",
        "print(r3 is r1)\n",
        "print(r3.corner is r1.corner) #因为corner是一个object，会创建一个新的object实例\n",
        "print(r3.corner.x is r1.corner.x) #但是corner.x是一个数字，int/float，属于不可变对象，所以不会创建新的，直接共享；\n",
        "\n"
      ],
      "metadata": {
        "colab": {
          "base_uri": "https://localhost:8080/"
        },
        "id": "Dd37htcl8DRl",
        "outputId": "90a48949-29c4-4da8-babc-b1f5befd3587"
      },
      "execution_count": 48,
      "outputs": [
        {
          "output_type": "stream",
          "name": "stdout",
          "text": [
            "False\n",
            "False\n",
            "True\n"
          ]
        }
      ]
    },
    {
      "cell_type": "code",
      "source": [
        "#P161\n",
        "class Point:\n",
        "  def __init__(self, x, y):\n",
        "    self.x = x\n",
        "    self.y = y\n",
        "  def __str__(self):\n",
        "     return f'({self.x}, {self.y})'\n",
        "\n",
        "class Rectangle:\n",
        "    def __init__(self, width, height, corner):\n",
        "        self.width = width\n",
        "        self.height = height\n",
        "        self.corner = corner\n",
        "\n",
        "def move_rectangle(rect, dx, dy):\n",
        "    rect.corner.x += dx\n",
        "    rect.corner.y += dy\n",
        "\n",
        "def new_move_rectangle(rect, dx, dy):\n",
        "    new_rect = copy.deepcopy(rect)\n",
        "    new_rect.corner.x += dx\n",
        "    new_rect.corner.y += dy\n",
        "    return new_rect\n",
        "\n",
        "r = Rectangle(150, 300, Point(0, 0))\n",
        "\n",
        "r_copy = new_move_rectangle(r, 50, 100) #保存副本，后面才能打印副本坐标\n",
        "\n",
        "print(r.corner)\n",
        "print(r_copy.corner)\n"
      ],
      "metadata": {
        "colab": {
          "base_uri": "https://localhost:8080/"
        },
        "id": "rLMwob7c-5vZ",
        "outputId": "2d7a4994-81fd-4e8d-ac4d-4bac0be90615"
      },
      "execution_count": 53,
      "outputs": [
        {
          "output_type": "stream",
          "name": "stdout",
          "text": [
            "(0, 0)\n",
            "(50, 100)\n"
          ]
        }
      ]
    },
    {
      "cell_type": "code",
      "source": [
        "#isinstance(obj, class_or_tuple) 用来检查一个对象是否属于某个类或类型。\n",
        "#obj：你要检查的对象\n",
        "#class_or_tuple：类或者类型，也可以是多个类组成的元组\n",
        "\n",
        "#hasattr(object, name) 用来检查对象是否有某个属性或方法。\n",
        "#object：你要检查的对象\n",
        "#name：属性或方法名（字符串形式）\n",
        "\n",
        "\n",
        "#返回值：\n",
        "#True → 对象是该类或其子类的实例\n",
        "#False → 不是"
      ],
      "metadata": {
        "id": "dj47oDteDzIL"
      },
      "execution_count": 55,
      "outputs": []
    }
  ]
}